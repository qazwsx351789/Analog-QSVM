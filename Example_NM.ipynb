{
 "cells": [
  {
   "cell_type": "markdown",
   "id": "e86c71e0-f056-4acd-abec-4ae18e18ba06",
   "metadata": {},
   "source": [
    "# Non-Markovianity"
   ]
  },
  {
   "cell_type": "markdown",
   "id": "90c2eef0-1d6a-4512-9e3e-a151efdc16cb",
   "metadata": {},
   "source": [
    "## data"
   ]
  },
  {
   "cell_type": "code",
   "execution_count": null,
   "id": "61ad6368-5676-4628-b4b7-47d493e6a223",
   "metadata": {},
   "outputs": [],
   "source": [
    "import Qmapping as Q\n",
    "import data_function as df\n",
    "import numpy as np\n",
    "import matplotlib.pyplot as plt"
   ]
  },
  {
   "cell_type": "code",
   "execution_count": null,
   "id": "a503f78e-c6ca-423b-b889-a5cea7d40938",
   "metadata": {},
   "outputs": [],
   "source": [
    "f = open('./standard_quantum.json', 'r') \n",
    "tg = json.load(f)\n",
    "f.close()\n",
    "x_train_lst = tg['train']['data']\n",
    "x_test_lst = tg['test']['data']\n",
    "y_train = tg['train']['label']\n",
    "y_test = tg['test']['label']"
   ]
  },
  {
   "cell_type": "code",
   "execution_count": null,
   "id": "93dbdf92-ce6d-4018-bd7c-260ed37986d0",
   "metadata": {},
   "outputs": [],
   "source": [
    "interval=np.linspace(0,0.06,7)"
   ]
  },
  {
   "cell_type": "code",
   "execution_count": null,
   "id": "466ece84-15a8-4e14-93df-f35fb4638a4c",
   "metadata": {},
   "outputs": [],
   "source": [
    "categories = [f\"{round(interval[i],3)}-{round(interval[i+1],3)}\" for i in range(len(interval)-1) ]\n",
    "values=[ 0 for _ in range(len(interval)-1)]\n",
    "for da in y_train:\n",
    "    for i in range(len(categories)):\n",
    "        if interval[i]<da<=interval[i+1]:\n",
    "            values[i]+=1"
   ]
  },
  {
   "cell_type": "code",
   "execution_count": null,
   "id": "0e5de5c9-25b8-47c5-8511-b78899ba6125",
   "metadata": {},
   "outputs": [],
   "source": [
    "categories"
   ]
  },
  {
   "cell_type": "code",
   "execution_count": null,
   "id": "5e89a206-e879-42c0-a7c9-d9b3919b3818",
   "metadata": {},
   "outputs": [],
   "source": [
    "\n",
    "# 设置图表大小和风格\n",
    "plt.figure(figsize=(10, 6))\n",
    "# plt.style.use('seaborn-darkgrid')\n",
    "\n",
    "# 创建柱状图\n",
    "bars = plt.bar(categories, values, color=['#1f77b4', '#ff7f0e', '#2ca02c', '#d62728', '#9467bd'], edgecolor='black')\n",
    "\n",
    "# 添加标题和标签\n",
    "plt.title('Training data', fontsize=20, fontweight='bold')\n",
    "plt.xlabel('Non-Markovianity', fontsize=20)\n",
    "plt.ylabel('Numbers', fontsize=20)\n",
    "\n",
    "# 添加数据标签\n",
    "for bar in bars:\n",
    "    yval = bar.get_height()\n",
    "    plt.text(bar.get_x() + bar.get_width() / 2.0, yval + 2, int(yval), ha='center', va='bottom', fontsize=15)\n",
    "\n",
    "# 添加网格\n",
    "# plt.grid(True, which='both', linestyle='--', linewidth=0.5)\n",
    "\n",
    "# 显示图表\n",
    "plt.show()"
   ]
  },
  {
   "cell_type": "code",
   "execution_count": null,
   "id": "f6243294-e66e-473f-8808-7392faf821d6",
   "metadata": {},
   "outputs": [],
   "source": [
    "interval=np.linspace(0,0.06,7)"
   ]
  },
  {
   "cell_type": "code",
   "execution_count": null,
   "id": "bee91608-3969-4b84-801b-ff01f02f1aac",
   "metadata": {},
   "outputs": [],
   "source": [
    "categories = [f\"{round(interval[i],3)}-{round(interval[i+1],3)}\" for i in range(len(interval)-1) ]\n",
    "values=[ 0 for _ in range(len(interval)-1)]\n",
    "for da in y_test:\n",
    "    for i in range(len(categories)):\n",
    "        if interval[i]<da<=interval[i+1]:\n",
    "            values[i]+=1"
   ]
  },
  {
   "cell_type": "code",
   "execution_count": null,
   "id": "fc9a58d1-256f-491e-bc8a-d9955a8c187e",
   "metadata": {},
   "outputs": [],
   "source": [
    "categories"
   ]
  },
  {
   "cell_type": "code",
   "execution_count": null,
   "id": "e3a416c7-4344-4fbd-b326-4614eaa6f613",
   "metadata": {},
   "outputs": [],
   "source": [
    "\n",
    "# 设置图表大小和风格\n",
    "plt.figure(figsize=(10, 6))\n",
    "# plt.style.use('seaborn-darkgrid')\n",
    "\n",
    "# 创建柱状图\n",
    "bars = plt.bar(categories, values, color=['#1f77b4', '#ff7f0e', '#2ca02c', '#d62728', '#9467bd'], edgecolor='black')\n",
    "\n",
    "# 添加标题和标签\n",
    "plt.title('Testing data', fontsize=20, fontweight='bold')\n",
    "plt.xlabel('Non-Markovianity', fontsize=20)\n",
    "plt.ylabel('Numbers', fontsize=20)\n",
    "\n",
    "# 添加数据标签\n",
    "for bar in bars:\n",
    "    yval = bar.get_height()\n",
    "    plt.text(bar.get_x() + bar.get_width() / 2.0, yval + 2, int(yval), ha='center', va='bottom', fontsize=15)\n",
    "\n",
    "# 添加网格\n",
    "# plt.grid(True, which='both', linestyle='--', linewidth=0.5)\n",
    "\n",
    "# 显示图表\n",
    "plt.show()"
   ]
  },
  {
   "cell_type": "markdown",
   "id": "83e7c259-b7bc-4683-a846-49552fa465a1",
   "metadata": {},
   "source": [
    "## Data pre-processing"
   ]
  },
  {
   "cell_type": "code",
   "execution_count": null,
   "id": "1b02a2dd-7b05-4020-946e-a370c1697629",
   "metadata": {},
   "outputs": [],
   "source": [
    "from numpy import linalg as LA\n",
    "from sklearn.preprocessing import StandardScaler\n",
    "from sklearn.metrics import mean_squared_error as mse\n"
   ]
  },
  {
   "cell_type": "markdown",
   "id": "13e4483e-865e-46a0-90e4-a1adaa38985f",
   "metadata": {},
   "source": [
    "### PCA"
   ]
  },
  {
   "cell_type": "code",
   "execution_count": null,
   "id": "44056ece-fd8c-429d-894d-cb1468b39ab0",
   "metadata": {},
   "outputs": [],
   "source": [
    "\n",
    "#step1\n",
    "scaler = StandardScaler()\n",
    "train = scaler.fit_transform(x_train_lst)\n",
    "test = scaler.fit_transform(x_test_lst)\n",
    "\n",
    "#step2\n",
    "cov_train = np.cov(train.T)\n",
    "\n",
    "#step3\n",
    "eig_vals, eig_vecs = LA.eig(cov_train)\n",
    "\n",
    "#step4\n",
    "sort_indices = np.argsort(eig_vals)[::-1]\n",
    "eig_vals = eig_vals[sort_indices]\n",
    "eig_vecs = eig_vecs[:, sort_indices]\n",
    "\n",
    "#step5\n",
    "k = 10 ## The number of features after PCA\n",
    "eig_vec = eig_vecs[:, :k]\n",
    "\n",
    "\n",
    "#step6\n",
    "x_train_lst = np.real(np.dot(train, eig_vec))\n",
    "x_test_lst = np.real(np.dot(test, eig_vec))\n",
    "x_train_lst=np.array(x_train_lst)\n",
    "x_test_lst=np.array(x_test_lst)"
   ]
  },
  {
   "cell_type": "markdown",
   "id": "efeac8c5-eb0a-4679-80e2-4c9a211cc6fa",
   "metadata": {},
   "source": [
    "### Renormalize each feature"
   ]
  },
  {
   "cell_type": "code",
   "execution_count": null,
   "id": "df92412a-f8b9-4091-bd7e-04cf25a59c2e",
   "metadata": {},
   "outputs": [],
   "source": [
    "# def scaler(x_train_lst,)\n",
    "\n",
    "f_scale =[]\n",
    "f_min =[]\n",
    "\n",
    "Norm=np.pi/2\n",
    "for i in range(0 ,len(x_train_lst[0])) :\n",
    "  tg = [x[i] for x in x_train_lst]\n",
    "  f_scale.append(np.max(tg) - np.min(tg))\n",
    "  f_min.append(np.min(tg))\n",
    "trs_tr = []\n",
    "for x in x_train_lst :\n",
    "  rs = []\n",
    "  for i , scale , min in zip(x ,f_scale , f_min) :\n",
    "    rs.append((i-min)/scale*Norm)\n",
    "  trs_tr.append(rs)\n",
    "trs_t = []\n",
    "for x in x_test_lst :\n",
    "  rs = []\n",
    "  for i , scale , min in zip(x ,f_scale , f_min) :\n",
    "    rs.append((i-min)/scale*Norm)\n",
    "  trs_t.append(rs)\n",
    "\n",
    "x_train_lst = trs_tr\n",
    "x_test_lst = trs_t\n",
    "train_pca_q=trs_tr\n",
    "test_pca_q=trs_t\n",
    "\n",
    "x_train_lst=np.array(x_train_lst)\n",
    "x_test_lst=np.array(x_test_lst)"
   ]
  },
  {
   "cell_type": "markdown",
   "id": "e588b5e4-d439-4f14-a6fe-5cf682435977",
   "metadata": {},
   "source": [
    "## Construct Quantum Kernal"
   ]
  },
  {
   "cell_type": "code",
   "execution_count": null,
   "id": "6891e76a-23b4-469b-a61c-423cb0df62ca",
   "metadata": {},
   "outputs": [],
   "source": [
    "import time"
   ]
  },
  {
   "cell_type": "code",
   "execution_count": null,
   "id": "d287473f-e3c7-4050-b7e6-3918b5994c05",
   "metadata": {},
   "outputs": [],
   "source": [
    "C6 = 5.42e-24\n",
    "desire_rabi = 8*np.pi *1e6\n",
    "R0=(C6/desire_rabi)**(1/6)\n",
    "a=R0*1.2\n",
    "raby = 1\n",
    "pos = [i * a for i in range(10)]\n",
    "# npos = noisy_pos (pos,error)\n",
    "# config = get_config(npos)\n",
    "# show_kmatrix(train = config , test = config,name = \"\")\n"
   ]
  },
  {
   "cell_type": "code",
   "execution_count": null,
   "id": "d787ccb6-feea-42a8-a253-ba8c25cf97c6",
   "metadata": {},
   "outputs": [],
   "source": [
    "R0"
   ]
  },
  {
   "cell_type": "code",
   "execution_count": null,
   "id": "f7488088-1801-44a0-90a0-578eb8ed6e15",
   "metadata": {},
   "outputs": [],
   "source": [
    "dim=10\n",
    "operator_list = [[] for i in range(dim)]\n",
    "matrix = np.ones([dim ,dim])\n",
    "for idx ,x in enumerate(matrix) :\n",
    "    for idy ,y in enumerate(x) :\n",
    "        operator_list[idx].append(Q.form_op([idx , idy] ,Q.rr ,10))"
   ]
  },
  {
   "cell_type": "code",
   "execution_count": null,
   "id": "3b2bb527-d06c-4f03-8f73-1a8dc13eacc6",
   "metadata": {},
   "outputs": [],
   "source": [
    "# from tqdm.notebook import trange, tqdm\n",
    "op =\"x\"\n",
    "tier=2\n",
    "mode=\"quera\"\n",
    "t=np.pi\n",
    "# error=[0.005,0.01,0.1]\n",
    "error=None\n",
    "start = time.time()\n",
    "qx_train_lst = Q.Qmap(pos , dim ,t ,train_pca_q, raby,op,operator_list,tier, mode,error=error)\n",
    "qx_test_lst = Q.Qmap(pos , dim ,t ,test_pca_q, raby,op,operator_list,tier, mode,error=error)\n",
    "end=time.time()"
   ]
  },
  {
   "cell_type": "code",
   "execution_count": null,
   "id": "b674480a-bfa1-41dd-a7d6-1091d2d97802",
   "metadata": {},
   "outputs": [],
   "source": [
    "cost_time=end-start"
   ]
  },
  {
   "cell_type": "code",
   "execution_count": null,
   "id": "2439e645-c418-4f35-9f4f-66d3d074b59a",
   "metadata": {},
   "outputs": [],
   "source": [
    "i=1\n",
    "target_kernel = Q.get_q_kernel(qx_train_lst[i],qx_train_lst[i])"
   ]
  },
  {
   "cell_type": "code",
   "execution_count": null,
   "id": "a110ed26-89bc-4c22-af9a-dcae501fa039",
   "metadata": {},
   "outputs": [],
   "source": [
    "test_kernel = Q.get_q_kernel(qx_test_lst[i],qx_train_lst[i] , status = \"test\")"
   ]
  },
  {
   "cell_type": "code",
   "execution_count": null,
   "id": "83cbf223-39e8-46c8-89b0-8e4331576aa7",
   "metadata": {},
   "outputs": [],
   "source": [
    "Q.show_kmatrix(train = target_kernel , test = test_kernel,name = \"\")"
   ]
  },
  {
   "cell_type": "markdown",
   "id": "92512dbd-ac02-4c91-89ca-13008f56d1d1",
   "metadata": {},
   "source": [
    "## Supported Vector Machine"
   ]
  },
  {
   "cell_type": "markdown",
   "id": "c5072f37-e16a-4fb1-b37f-d9e2cc9bed71",
   "metadata": {},
   "source": [
    "### Quantum kernel"
   ]
  },
  {
   "cell_type": "code",
   "execution_count": null,
   "id": "bea7fecf-3a96-408c-ac7d-b127892a25de",
   "metadata": {},
   "outputs": [],
   "source": [
    "from sklearn.svm import SVR\n",
    "import sklearn"
   ]
  },
  {
   "cell_type": "code",
   "execution_count": null,
   "id": "a061f3bb-27b0-4907-900c-6a8680869b99",
   "metadata": {},
   "outputs": [],
   "source": [
    "svr = SVR()\n",
    "argv = df._tune(svr,np.array(target_kernel) , y_train ,np.array(test_kernel) , y_test, ['precomputed'] , tg = 'ts' )\n",
    "argv"
   ]
  },
  {
   "cell_type": "code",
   "execution_count": null,
   "id": "9de807f1-a7f2-480d-be43-0fe9253bec81",
   "metadata": {},
   "outputs": [],
   "source": [
    "svr = SVR(kernel = argv['kernel'] , epsilon = argv['epsilon'] , C = argv['C'])\n",
    "#svr = SVR(kernel = 'precomputed' , epsilon = 0)\n",
    "svr.fit(target_kernel, y_train)"
   ]
  },
  {
   "cell_type": "code",
   "execution_count": null,
   "id": "5540fdba-a81f-4cb7-ab74-8536ffe798e8",
   "metadata": {},
   "outputs": [],
   "source": [
    "rs_t = svr.predict(test_kernel)\n",
    "df._plot(y_test , rs_t , 99 , name = '')"
   ]
  },
  {
   "cell_type": "code",
   "execution_count": null,
   "id": "e5855ae1-4b42-4867-8725-69f5ab58bb63",
   "metadata": {},
   "outputs": [],
   "source": [
    "rs = svr.predict(target_kernel)\n",
    "df._plot(y_train , rs ,99 , name = '')"
   ]
  },
  {
   "cell_type": "markdown",
   "id": "222792f7-075e-4363-bd71-20d969121b28",
   "metadata": {},
   "source": [
    "### linear"
   ]
  },
  {
   "cell_type": "code",
   "execution_count": null,
   "id": "489732e1-f517-4caf-9895-4daf3e889e60",
   "metadata": {},
   "outputs": [],
   "source": [
    "\n",
    "x_train_lst=np.array(x_train_lst)\n",
    "x_test_lst=np.array(x_test_lst)\n",
    "\n",
    "_k = sklearn.metrics.pairwise.linear_kernel(x_train_lst)\n",
    "_kk = sklearn.metrics.pairwise.linear_kernel(x_test_lst,x_train_lst)"
   ]
  },
  {
   "cell_type": "code",
   "execution_count": null,
   "id": "669df446-d317-4e82-a818-8d5325cfd5f7",
   "metadata": {},
   "outputs": [],
   "source": [
    "Q.show_kmatrix(test = _kk , train = _k , name = '')"
   ]
  },
  {
   "cell_type": "code",
   "execution_count": null,
   "id": "fe1d7e30-4f05-4e7e-a610-f46bb0d68eea",
   "metadata": {},
   "outputs": [],
   "source": [
    "mth = 'linear'\n",
    "linear_svr = SVR()\n",
    "argv = df.tune(linear_svr,x_train_lst , y_train , [mth])\n",
    "argv"
   ]
  },
  {
   "cell_type": "code",
   "execution_count": null,
   "id": "8260c499-1d65-43a5-8840-bea15d242c1a",
   "metadata": {},
   "outputs": [],
   "source": [
    "linear_svr = SVR(kernel = mth , epsilon = 0, C=0.9)\n",
    "linear_svr.fit(x_train_lst, y_train)"
   ]
  },
  {
   "cell_type": "code",
   "execution_count": null,
   "id": "57d68802-c936-4514-8a9b-0823b0c42932",
   "metadata": {},
   "outputs": [],
   "source": [
    "linear_rs_t = linear_svr.predict(x_test_lst)\n",
    "df._plot(y_test , linear_rs_t , 999 , name = '')"
   ]
  },
  {
   "cell_type": "code",
   "execution_count": null,
   "id": "06cee301-d114-4573-a1ff-4f4e4abdf93c",
   "metadata": {},
   "outputs": [],
   "source": [
    "linear_rs = linear_svr.predict(x_train_lst)\n",
    "df._plot(y_train , linear_rs , 999 , name = '')"
   ]
  },
  {
   "cell_type": "markdown",
   "id": "04aad281-f295-4fde-a757-9a099be91375",
   "metadata": {},
   "source": [
    "### rbf"
   ]
  },
  {
   "cell_type": "code",
   "execution_count": null,
   "id": "820898d7-09ef-47e0-9f90-58727d61a8a7",
   "metadata": {},
   "outputs": [],
   "source": [
    "\n",
    "x_train_lst=np.array(x_train_lst)\n",
    "x_test_lst=np.array(x_test_lst)\n",
    "\n",
    "_k = sklearn.metrics.pairwise.rbf_kernel(x_train_lst,gamma=1/(10*x_train_lst.var()))\n",
    "_kk = sklearn.metrics.pairwise.rbf_kernel(x_test_lst,x_train_lst,gamma=1/(10*x_train_lst.var()))"
   ]
  },
  {
   "cell_type": "code",
   "execution_count": null,
   "id": "ed5856b9-7d13-4ca0-a89f-fed49e3612ff",
   "metadata": {},
   "outputs": [],
   "source": [
    "Q.show_kmatrix(test = _kk , train = _k , name = '')"
   ]
  },
  {
   "cell_type": "code",
   "execution_count": null,
   "id": "2a522cb9-5f19-409e-afa5-b4d727a2aeb5",
   "metadata": {},
   "outputs": [],
   "source": [
    "mth = 'rbf'\n",
    "_svr = SVR()\n",
    "argv = df.tune(_svr,x_train_lst , y_train , [mth])\n",
    "argv"
   ]
  },
  {
   "cell_type": "code",
   "execution_count": null,
   "id": "0ea4c82b-a3e8-410e-9833-e5562188eec8",
   "metadata": {},
   "outputs": [],
   "source": [
    "_svr = SVR(kernel = mth , epsilon = 0, C=0.9)\n",
    "_svr.fit(x_train_lst, y_train)"
   ]
  },
  {
   "cell_type": "code",
   "execution_count": null,
   "id": "731b709b-e068-4d8e-b9b1-94758df2c263",
   "metadata": {},
   "outputs": [],
   "source": [
    "_rs_t = _svr.predict(x_test_lst)\n",
    "df._plot(y_test , _rs_t , 999 , name = '')"
   ]
  },
  {
   "cell_type": "code",
   "execution_count": null,
   "id": "56f1ebb8-ef1c-4ded-a206-8f615324d338",
   "metadata": {},
   "outputs": [],
   "source": [
    "_rs = _svr.predict(x_train_lst)\n",
    "df._plot(y_train , _rs , 999 , name = '')"
   ]
  },
  {
   "cell_type": "markdown",
   "id": "7689f079-919b-4027-a00f-ca5f987391f5",
   "metadata": {},
   "source": [
    "## Result"
   ]
  },
  {
   "cell_type": "code",
   "execution_count": null,
   "id": "bea9a1a9-16f8-474c-8d3b-45674dc89b89",
   "metadata": {},
   "outputs": [],
   "source": [
    "print(f'Classical linear testing mse : {mse(linear_rs_t , y_test)}')\n",
    "print(f'Classical rbf testing mse : {mse(_rs_t , y_test)}')\n",
    "print(f'Quantum testing mse : {mse(rs_t,y_test)}')"
   ]
  },
  {
   "cell_type": "code",
   "execution_count": null,
   "id": "937ec167-4679-43d2-a346-9223d928e48f",
   "metadata": {},
   "outputs": [],
   "source": [
    "print(f'Classical linear training mse : {mse(linear_rs , y_train)}')\n",
    "print(f'Classical rbf training mse : {mse(_rs , y_train)}')\n",
    "print(f'Quantum training mse : {mse(rs,y_train)}')"
   ]
  },
  {
   "cell_type": "code",
   "execution_count": null,
   "id": "a07dc7e0-9741-41b7-87c0-15b97da9ce49",
   "metadata": {},
   "outputs": [],
   "source": []
  }
 ],
 "metadata": {
  "kernelspec": {
   "display_name": "TestQuQt",
   "language": "python",
   "name": "testquqt"
  },
  "language_info": {
   "codemirror_mode": {
    "name": "ipython",
    "version": 3
   },
   "file_extension": ".py",
   "mimetype": "text/x-python",
   "name": "python",
   "nbconvert_exporter": "python",
   "pygments_lexer": "ipython3",
   "version": "3.11.8"
  }
 },
 "nbformat": 4,
 "nbformat_minor": 5
}
