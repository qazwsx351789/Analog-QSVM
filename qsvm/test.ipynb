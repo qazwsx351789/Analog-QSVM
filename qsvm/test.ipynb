{
 "cells": [
  {
   "cell_type": "code",
   "execution_count": 1,
   "id": "0bc3d382-58e7-4d05-b1a8-728edd8bb247",
   "metadata": {},
   "outputs": [],
   "source": [
    "import Qmapping as Q\n",
    "import data_function as df\n",
    "import numpy as np\n",
    "import matplotlib.pyplot as plt\n",
    "import qutip\n",
    "from qutip import expect , Qobj\n",
    "from qutip import tensor\n",
    "\n",
    "\n",
    "from sklearn.svm import SVC\n",
    "from sklearn.svm import SVR\n",
    "from Qmapping import get_config\n",
    "from Qmapping import evolution\n",
    "from Qmapping import CnotGate\n",
    "from Qmapping import Hadama\n",
    "from Qmapping import ZZGate\n",
    "from Qmapping import gst\n",
    "from Qmapping import EncodingP\n",
    "from Qmapping import get_q_kernel\n",
    "from Qmapping import HMap\n",
    "\n",
    "from qutip import sigmax , sigmaz , sigmay\n",
    "\n",
    "######################################################################################################\n",
    "################################## useful operators and parameters ###################################\n",
    "######################################################################################################\n",
    "\n",
    "C6 = 5.42e-24\n",
    "desire_rabi = 8*np.pi *1e6\n",
    "R0=(C6/desire_rabi)**(1/6)\n",
    "\n",
    "sigx = sigmax()\n",
    "sigz = sigmaz()\n",
    "sigy = sigmay()\n",
    "iid = qutip.qeye(2)\n",
    "rr = Qobj([[0,0],[0,1]])\n",
    "ee = Qobj([[1,0],[0,0]])\n",
    "cnot=tensor(ee, iid)+ tensor(rr, sigx)\n",
    "\n",
    "\n",
    "\n",
    "class QSVM() :\n",
    "    def __init__(self,task='svr',config={}):\n",
    "        self.task = task\n",
    "        self.traindata=None\n",
    "        self.trainedOrNot=False\n",
    "        self.method = 'analog+digital'\n",
    "        self.config = config\n",
    "        self.train_set = []\n",
    "        self.train_kernal=None\n",
    "        self.C=1\n",
    "        if self.config == {} :\n",
    "            self.default_phys_sys()\n",
    "        \n",
    "        \n",
    "    def default_phys_sys(self):\n",
    "        self.config['rabi'] = 1\n",
    "        self.config['detuning'] = 1\n",
    "        self.config['atomn'] = 10\n",
    "        self.config['a/R0']=1.2\n",
    "        self.config['time']=np.pi\n",
    "        self.config['pos'] = [i* self.config['a/R0']*R0 for i in range(self.config['atomn'])]\n",
    "\n",
    "\n",
    "    \n",
    "    def get_kernel(self, data ,status='training',tier=1,method=\"analog+digital\", op=\"x\"):\n",
    "        self.tier=tier\n",
    "        self.method=method\n",
    "        if self.config['atomn'] != len(data[0]):\n",
    "            print(\"warning!! The atom number is unconsistent with the number of the features \")\n",
    "        rs = []\n",
    "            \n",
    "        if status=='training':\n",
    "            if self.trainedOrNot==True:\n",
    "                print(\"Error!!!This model has been train.\")\n",
    "                return \n",
    "            self.trainedOrNot=True\n",
    "            \n",
    "        # form operators\n",
    "        self.operator_list = [[] for i in range(self.config['atomn'])]\n",
    "        matrix = np.ones([self.config['atomn'] ,self.config['atomn']])\n",
    "        for idx ,x in enumerate(matrix) :\n",
    "            for idy ,y in enumerate(x) :\n",
    "                self.operator_list[idx].append(Q.form_op([idx , idy] ,Q.rr ,10))\n",
    "        \n",
    "       \n",
    "        right_gst = gst(self.config['atomn'])\n",
    "        config = get_config(self.config['pos'])\n",
    "\n",
    "        # differnet setup\n",
    "        if self.method == 'analog+digital':\n",
    "            h = HMap(config ,self.config['atomn'] ,self.config['rabi'],self.operator_list)\n",
    "            ev=evolution(h,self.config['time'])\n",
    "        elif self.method == \"digital\":\n",
    "            ev = CnotGate(self.dim)\n",
    "            \n",
    "        # build states\n",
    "        for da in data:\n",
    "            EP=EncodingP(self.config['atomn'],da,op)\n",
    "            state= EP * right_gst\n",
    "            for i in range(self.tier):\n",
    "                state= ev * state\n",
    "                state= EP * state\n",
    "            rs.append(state)\n",
    "        \n",
    "        #build kernals\n",
    "        if status=='training':\n",
    "            self.trainState=rs\n",
    "            kernel=get_q_kernel(rs,rs,status = \"train\")\n",
    "            self.train_kernal=kernel\n",
    "        else:\n",
    "            kernel=get_q_kernel(rs,self.trainState,status = \"test\")\n",
    "        return kernel\n",
    "\n",
    "    \n",
    "    def fit(self,kernel, y_train, **kwargs) :\n",
    "        if self.task == 'svc' :\n",
    "            self.svm = SVC(kernel = 'precomputed',**kwargs)\n",
    "        if self.task == 'svr' :\n",
    "            self.svm = SVR(kernel =  'precomputed',**kwargs)\n",
    "\n",
    "        self.svm.fit(kernel , y_train)\n",
    "    def predict(self,te_kernal) :\n",
    "        return self.svm.predict(te_kernal)\n",
    "        \n",
    "        "
   ]
  },
  {
   "cell_type": "code",
   "execution_count": 2,
   "id": "ea540dd8-7e74-4951-a8b6-6e2417b7a99e",
   "metadata": {},
   "outputs": [],
   "source": [
    "f = open('../Datasets/standard_quantum.json', 'r') \n",
    "tg = json.load(f)\n",
    "f.close()\n",
    "x_train_lst = tg['train']['data']\n",
    "x_test_lst = tg['test']['data']\n",
    "y_train = tg['train']['label']\n",
    "y_test = tg['test']['label']"
   ]
  },
  {
   "cell_type": "code",
   "execution_count": 3,
   "id": "8bf32e95-31bd-490f-a64a-2b30b1db4d1b",
   "metadata": {},
   "outputs": [],
   "source": [
    "interval=np.linspace(0,0.06,7)"
   ]
  },
  {
   "cell_type": "code",
   "execution_count": 4,
   "id": "04f14eaf-8ec7-4457-ace9-81c80cb08d11",
   "metadata": {},
   "outputs": [],
   "source": [
    "categories = [f\"{round(interval[i],3)}-{round(interval[i+1],3)}\" for i in range(len(interval)-1) ]\n",
    "values=[ 0 for _ in range(len(interval)-1)]\n",
    "for da in y_train:\n",
    "    for i in range(len(categories)):\n",
    "        if interval[i]<da<=interval[i+1]:\n",
    "            values[i]+=1"
   ]
  },
  {
   "cell_type": "code",
   "execution_count": 5,
   "id": "37fe7a34-b543-4772-91ae-d448cf248102",
   "metadata": {},
   "outputs": [
    {
     "data": {
      "text/plain": [
       "['0.0-0.01', '0.01-0.02', '0.02-0.03', '0.03-0.04', '0.04-0.05', '0.05-0.06']"
      ]
     },
     "execution_count": 5,
     "metadata": {},
     "output_type": "execute_result"
    }
   ],
   "source": [
    "categories"
   ]
  },
  {
   "cell_type": "code",
   "execution_count": 6,
   "id": "380eb216-5ea7-4d22-8f1b-30c8dd3fb8a2",
   "metadata": {},
   "outputs": [
    {
     "data": {
      "image/png": "[encoded data removed]",
      "text/plain": [
       "<Figure size 1000x600 with 1 Axes>"
      ]
     },
     "metadata": {},
     "output_type": "display_data"
    }
   ],
   "source": [
    "\n",
    "# 设置图表大小和风格\n",
    "plt.figure(figsize=(10, 6))\n",
    "# plt.style.use('seaborn-darkgrid')\n",
    "\n",
    "# 创建柱状图\n",
    "bars = plt.bar(categories, values, color=['#1f77b4', '#ff7f0e', '#2ca02c', '#d62728', '#9467bd'], edgecolor='black')\n",
    "\n",
    "# 添加标题和标签\n",
    "plt.title('Training data', fontsize=20, fontweight='bold')\n",
    "plt.xlabel('Non-Markovianity', fontsize=20)\n",
    "plt.ylabel('Numbers', fontsize=20)\n",
    "\n",
    "# 添加数据标签\n",
    "for bar in bars:\n",
    "    yval = bar.get_height()\n",
    "    plt.text(bar.get_x() + bar.get_width() / 2.0, yval + 2, int(yval), ha='center', va='bottom', fontsize=15)\n",
    "\n",
    "# 添加网格\n",
    "# plt.grid(True, which='both', linestyle='--', linewidth=0.5)\n",
    "\n",
    "# 显示图表\n",
    "plt.show()"
   ]
  },
  {
   "cell_type": "code",
   "execution_count": 7,
   "id": "6c9a2d11-9da0-45b8-95e7-e41ae5a41df5",
   "metadata": {},
   "outputs": [],
   "source": [
    "interval=np.linspace(0,0.06,7)"
   ]
  },
  {
   "cell_type": "code",
   "execution_count": 8,
   "id": "a6ce9469-99ec-43ec-b19a-e74bc6a41036",
   "metadata": {},
   "outputs": [],
   "source": [
    "categories = [f\"{round(interval[i],3)}-{round(interval[i+1],3)}\" for i in range(len(interval)-1) ]\n",
    "values=[ 0 for _ in range(len(interval)-1)]\n",
    "for da in y_test:\n",
    "    for i in range(len(categories)):\n",
    "        if interval[i]<da<=interval[i+1]:\n",
    "            values[i]+=1"
   ]
  },
  {
   "cell_type": "code",
   "execution_count": 9,
   "id": "afc2f43b-d810-4315-9ee0-2cd4f4dd7a99",
   "metadata": {},
   "outputs": [
    {
     "data": {
      "text/plain": [
       "['0.0-0.01', '0.01-0.02', '0.02-0.03', '0.03-0.04', '0.04-0.05', '0.05-0.06']"
      ]
     },
     "execution_count": 9,
     "metadata": {},
     "output_type": "execute_result"
    }
   ],
   "source": [
    "categories"
   ]
  },
  {
   "cell_type": "code",
   "execution_count": 10,
   "id": "ad19223b-76fa-4f4c-8ca3-41b07fef3dd3",
   "metadata": {},
   "outputs": [
    {
     "data": {
      "image/png": "[encoded data removed]",
      "text/plain": [
       "<Figure size 1000x600 with 1 Axes>"
      ]
     },
     "metadata": {},
     "output_type": "display_data"
    }
   ],
   "source": [
    "\n",
    "# 设置图表大小和风格\n",
    "plt.figure(figsize=(10, 6))\n",
    "# plt.style.use('seaborn-darkgrid')\n",
    "\n",
    "# 创建柱状图\n",
    "bars = plt.bar(categories, values, color=['#1f77b4', '#ff7f0e', '#2ca02c', '#d62728', '#9467bd'], edgecolor='black')\n",
    "\n",
    "# 添加标题和标签\n",
    "plt.title('Testing data', fontsize=20, fontweight='bold')\n",
    "plt.xlabel('Non-Markovianity', fontsize=20)\n",
    "plt.ylabel('Numbers', fontsize=20)\n",
    "\n",
    "# 添加数据标签\n",
    "for bar in bars:\n",
    "    yval = bar.get_height()\n",
    "    plt.text(bar.get_x() + bar.get_width() / 2.0, yval + 2, int(yval), ha='center', va='bottom', fontsize=15)\n",
    "\n",
    "# 添加网格\n",
    "# plt.grid(True, which='both', linestyle='--', linewidth=0.5)\n",
    "\n",
    "# 显示图表\n",
    "plt.show()"
   ]
  },
  {
   "cell_type": "code",
   "execution_count": 11,
   "id": "6fec0396-3ddc-4d47-a858-d54acced7ccc",
   "metadata": {},
   "outputs": [],
   "source": [
    "from numpy import linalg as LA\n",
    "from sklearn.preprocessing import StandardScaler\n",
    "from sklearn.metrics import mean_squared_error as mse\n"
   ]
  },
  {
   "cell_type": "code",
   "execution_count": 12,
   "id": "0e5801f4-344d-47a8-af48-4f18c31ccba5",
   "metadata": {},
   "outputs": [],
   "source": [
    "class Pca:\n",
    "    def __init__(self,PCA_n=10):\n",
    "        self.PCA_n=PCA_n\n",
    "        self.StandardizeOrNot=True\n",
    "        self.Fitted=False\n",
    "    def fitting(self,traindata):\n",
    "        if self.Fitted:\n",
    "            print(\"It has been fitted!! The previous fitting was recovered.\")\n",
    "        if self.StandardizeOrNot == True:\n",
    "            traindata = scaler.fit_transform(traindata)\n",
    "        cov_train = np.cov(traindata.T)\n",
    "        eig_vals, eig_vecs = LA.eig(cov_train)\n",
    "        sort_indices = np.argsort(eig_vals)[::-1]\n",
    "        eig_vals = eig_vals[sort_indices]\n",
    "        eig_vecs = eig_vecs[:, sort_indices]\n",
    "        self.eig_vec = eig_vecs[:, :self.PCA_n]\n",
    "        self.Fitted = True\n",
    "    def transform(self,data):\n",
    "        if self.StandardizeOrNot == True:\n",
    "            data = scaler.fit_transform(data)   \n",
    "        data = np.real(np.dot(data, eig_vec))\n",
    "        data=np.array(data)\n",
    "        return data"
   ]
  },
  {
   "cell_type": "code",
   "execution_count": 13,
   "id": "733dfc75-c16f-4b4a-8c54-bb8f8fdc8624",
   "metadata": {},
   "outputs": [],
   "source": [
    "\n",
    "#step1\n",
    "scaler = StandardScaler()\n",
    "train = scaler.fit_transform(x_train_lst)\n",
    "test = scaler.fit_transform(x_test_lst)\n",
    "\n",
    "#step2\n",
    "cov_train = np.cov(train.T)\n",
    "\n",
    "#step3\n",
    "eig_vals, eig_vecs = LA.eig(cov_train)\n",
    "\n",
    "#step4\n",
    "sort_indices = np.argsort(eig_vals)[::-1]\n",
    "eig_vals = eig_vals[sort_indices]\n",
    "eig_vecs = eig_vecs[:, sort_indices]\n",
    "\n",
    "#step5\n",
    "k = 10 ## The number of features after PCA\n",
    "eig_vec = eig_vecs[:, :k]\n",
    "\n",
    "\n",
    "#step6\n",
    "x_train_lst = np.real(np.dot(train, eig_vec))\n",
    "x_test_lst = np.real(np.dot(test, eig_vec))\n",
    "x_train_lst=np.array(x_train_lst)\n",
    "x_test_lst=np.array(x_test_lst)"
   ]
  },
  {
   "cell_type": "code",
   "execution_count": 14,
   "id": "ee3d82ee-7908-4311-93e1-16be72ec130c",
   "metadata": {},
   "outputs": [],
   "source": [
    "# def scaler(x_train_lst,)\n",
    "\n",
    "f_scale =[]\n",
    "f_min =[]\n",
    "\n",
    "Norm=np.pi/2\n",
    "for i in range(0 ,len(x_train_lst[0])) :\n",
    "  tg = [x[i] for x in x_train_lst]\n",
    "  f_scale.append(np.max(tg) - np.min(tg))\n",
    "  f_min.append(np.min(tg))\n",
    "trs_tr = []\n",
    "for x in x_train_lst :\n",
    "  rs = []\n",
    "  for i , scale , min in zip(x ,f_scale , f_min) :\n",
    "    rs.append((i-min)/scale*Norm)\n",
    "  trs_tr.append(rs)\n",
    "trs_t = []\n",
    "for x in x_test_lst :\n",
    "  rs = []\n",
    "  for i , scale , min in zip(x ,f_scale , f_min) :\n",
    "    rs.append((i-min)/scale*Norm)\n",
    "  trs_t.append(rs)\n",
    "\n",
    "x_train_lst = trs_tr\n",
    "x_test_lst = trs_t\n",
    "train_pca_q=trs_tr\n",
    "test_pca_q=trs_t\n",
    "\n",
    "x_train_lst=np.array(x_train_lst)\n",
    "x_test_lst=np.array(x_test_lst)"
   ]
  },
  {
   "cell_type": "code",
   "execution_count": 15,
   "id": "ea1477c2-bcd4-40ba-9a99-54d5da5239b6",
   "metadata": {},
   "outputs": [],
   "source": [
    "qsvm=QSVM()"
   ]
  },
  {
   "cell_type": "code",
   "execution_count": 16,
   "id": "91618891-4986-483c-bf84-a8dc843f0141",
   "metadata": {},
   "outputs": [],
   "source": [
    "qsvm=QSVM()\n",
    "tr_kernel=qsvm.get_kernel(x_train_lst)\n",
    "te_kernel=qsvm.get_kernel(x_test_lst,status=\"test\")\n",
    "Q.show_kmatrix(train = tr_kernel , test = te_kernel,name = \"\")"
   ]
  },
  {
   "cell_type": "code",
   "execution_count": null,
   "id": "439f53c6-a4ec-4cfe-92fa-dafe229249f2",
   "metadata": {},
   "outputs": [],
   "source": []
  },
  {
   "cell_type": "code",
   "execution_count": 18,
   "id": "f257b312-94c9-48bd-8e87-570a8de183d9",
   "metadata": {},
   "outputs": [],
   "source": [
    "from sklearn.svm import SVR\n",
    "import sklearn"
   ]
  },
  {
   "cell_type": "code",
   "execution_count": 19,
   "id": "4f1554c4-91ef-4219-bd7d-4489af202256",
   "metadata": {},
   "outputs": [
    {
     "name": "stdout",
     "output_type": "stream",
     "text": [
      "[0.1 0.2 0.3 0.4 0.5 0.6 0.7 0.8 0.9]\n"
     ]
    },
    {
     "data": {
      "text/plain": [
       "{'kernel': 'precomputed', 'epsilon': 0.0, 'C': 0.5}"
      ]
     },
     "execution_count": 19,
     "metadata": {},
     "output_type": "execute_result"
    }
   ],
   "source": [
    "svr = SVR()\n",
    "argv = df._tune(svr,np.array(tr_kernel) , y_train ,np.array(te_kernel) , y_test, ['precomputed'] , tg = 'ts' )\n",
    "argv"
   ]
  },
  {
   "cell_type": "code",
   "execution_count": 21,
   "id": "f345f8e2-7ab8-431e-8567-ad461ff84580",
   "metadata": {},
   "outputs": [],
   "source": [
    "qsvm.fit(tr_kernel,y_train,epsilon = argv['epsilon'] , C = argv['C'])"
   ]
  },
  {
   "cell_type": "code",
   "execution_count": 23,
   "id": "1f2d0257-6236-4f62-84a0-393a45a82697",
   "metadata": {},
   "outputs": [],
   "source": [
    "rs_t = qsvm.predict(te_kernel)"
   ]
  },
  {
   "cell_type": "code",
   "execution_count": 25,
   "id": "19c80e82-a278-426c-b7e2-f825f765cf46",
   "metadata": {},
   "outputs": [
    {
     "data": {
      "image/png": "[encoded data removed]",
      "text/plain": [
       "<Figure size 640x480 with 1 Axes>"
      ]
     },
     "metadata": {},
     "output_type": "display_data"
    }
   ],
   "source": [
    "df._plot(y_test , rs_t , 99 , name = '')"
   ]
  },
  {
   "cell_type": "code",
   "execution_count": 24,
   "id": "583d0d03-96ed-46de-8438-1291d1f4f23d",
   "metadata": {},
   "outputs": [
    {
     "name": "stdout",
     "output_type": "stream",
     "text": [
      "Quantum testing mse : 4.035958608039746e-06\n"
     ]
    }
   ],
   "source": [
    "print(f'Quantum testing mse : {mse(rs_t,y_test)}')"
   ]
  },
  {
   "cell_type": "code",
   "execution_count": null,
   "id": "e8cba158-24ff-4e52-9b9d-716ebf0b1ef8",
   "metadata": {},
   "outputs": [],
   "source": []
  }
 ],
 "metadata": {
  "kernelspec": {
   "display_name": "TestQuQt",
   "language": "python",
   "name": "testquqt"
  },
  "language_info": {
   "codemirror_mode": {
    "name": "ipython",
    "version": 3
   },
   "file_extension": ".py",
   "mimetype": "text/x-python",
   "name": "python",
   "nbconvert_exporter": "python",
   "pygments_lexer": "ipython3",
   "version": "3.11.8"
  }
 },
 "nbformat": 4,
 "nbformat_minor": 5
}
